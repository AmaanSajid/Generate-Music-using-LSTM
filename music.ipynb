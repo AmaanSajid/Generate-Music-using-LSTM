{
 "cells": [
  {
   "cell_type": "code",
   "execution_count": null,
   "metadata": {},
   "outputs": [],
   "source": [
    "pip install pandas\n"
   ]
  },
  {
   "cell_type": "code",
   "execution_count": null,
   "metadata": {},
   "outputs": [],
   "source": [
    "pip install sklearn"
   ]
  },
  {
   "cell_type": "code",
   "execution_count": 6,
   "metadata": {},
   "outputs": [
    {
     "name": "stdout",
     "output_type": "stream",
     "text": [
      "Requirement already satisfied: numpy in c:\\users\\amaan sajid\\onedrive\\desktop\\uf\\machine learning and deep\\paper\\.conda\\lib\\site-packages (2.1.1)\n",
      "Note: you may need to restart the kernel to use updated packages.\n"
     ]
    }
   ],
   "source": [
    "pip install numpy"
   ]
  },
  {
   "cell_type": "code",
   "execution_count": null,
   "metadata": {},
   "outputs": [],
   "source": [
    "pip install tensorflow"
   ]
  },
  {
   "cell_type": "code",
   "execution_count": null,
   "metadata": {},
   "outputs": [],
   "source": [
    "pip install keras"
   ]
  },
  {
   "cell_type": "code",
   "execution_count": null,
   "metadata": {},
   "outputs": [],
   "source": [
    "pip install pickle"
   ]
  },
  {
   "cell_type": "code",
   "execution_count": null,
   "metadata": {},
   "outputs": [],
   "source": [
    "pip install music21"
   ]
  },
  {
   "cell_type": "code",
   "execution_count": 23,
   "metadata": {},
   "outputs": [],
   "source": [
    "import numpy\n",
    "import pickle\n",
    "from music21 import converter, instrument, note, chord\n",
    "import tensorflow as tf\n",
    "from keras.models import Sequential\n",
    "from keras.layers import Dense \n",
    "from keras.layers import Dropout\n",
    "from keras.layers import LSTM\n",
    "from keras.layers import BatchNormalization\n",
    "from keras.layers import Activation"
   ]
  },
  {
   "cell_type": "code",
   "execution_count": 21,
   "metadata": {},
   "outputs": [],
   "source": [
    "def generate():\n",
    "    with open('data/notes', 'rb') as filepath:\n",
    "        notes = pickle.load(filepath)\n",
    "    \n",
    "    pitchnames = sorted(set(item for item in notes))\n",
    "    n_vocab = len(set(notes))\n",
    "    \n",
    "    network_input, normalized_input = prep_seq(notes, pitchnames, n_vocab)\n",
    "    model = network_create(normalized_input, n_vocab)\n",
    "    prediction_output = note_generate(model, network_input, pitchnames, n_vocab)\n",
    "    midi_create(prediction_output)"
   ]
  },
  {
   "cell_type": "code",
   "execution_count": 22,
   "metadata": {},
   "outputs": [],
   "source": [
    "def prep_seq(array, ptchname, n_vocab):\n",
    "    notetoint = dict((no, number) for number, no in enumerate(ptchname))\n",
    "    \n",
    "    seq_len = 100\n",
    "    net_input = []\n",
    "    out = []\n",
    "    for i in range(0, len(array) - seq_len, 1):\n",
    "        seq_in = array[i:i + seq_len]\n",
    "        seq_out = array[i + seq_len]\n",
    "        net_input.append([notetoint[char] for char in seq_in])\n",
    "        out.append(notetoint[seq_out])\n",
    "    \n",
    "    n_patterns = len(net_input)\n",
    "    \n",
    "    norm_input = numpy.reshape(net_input, (n_patterns, seq_len, 1))\n",
    "    # normalize input\n",
    "    norm_input = norm_input / float(n_vocab)\n",
    "    \n",
    "    return (net_input, norm_input)"
   ]
  },
  {
   "cell_type": "code",
   "execution_count": 24,
   "metadata": {},
   "outputs": [],
   "source": [
    "def network_create(net_in, voc):\n",
    "    m = Sequential()\n",
    "    m.add(LSTM(\n",
    "        512,\n",
    "        input_shape=(net_in.shape[1], net_in.shape[2]),\n",
    "        recurrent_dropout=0.3,\n",
    "        return_sequences=True\n",
    "    ))\n",
    "    m.add(LSTM(512, return_sequences=True, recurrent_dropout=0.3))\n",
    "    m.add(LSTM(512))\n",
    "    m.add(BatchNormalization())\n",
    "    m.add(Dropout(0.3))\n",
    "    m.add(Dense(256))\n",
    "    m.add(Activation('relu'))\n",
    "    m.add(BatchNormalization())\n",
    "    m.add(Dropout(0.3))\n",
    "    m.add(Dense(voc))\n",
    "    m.add(Activation('softmax'))\n",
    "    m.compile(loss='categorical_crossentropy', optimizer='rmsprop')\n",
    "    \n",
    "    m.load_weights('weights.hdf5')\n",
    "    \n",
    "    return m"
   ]
  },
  {
   "cell_type": "code",
   "execution_count": 25,
   "metadata": {},
   "outputs": [],
   "source": [
    "def note_generate(m, net_in, ptchname, voc):\n",
    "    s = numpy.random.randint(0, len(net_in) - 1)\n",
    "    \n",
    "    inttonote = dict((num, n) for num, n in enumerate(ptchname))\n",
    "    \n",
    "    pat = net_in[s]\n",
    "    pred_out = []\n",
    "    \n",
    "    for notin in range(500):\n",
    "        pred_in = numpy.reshape(pat, (1, len(pat), 1))\n",
    "        pred_in = pred_in / float(voc)\n",
    "        \n",
    "        pred = m.predict(pred_in, verbose=0)\n",
    "        \n",
    "        i = numpy.argmax(pred)\n",
    "        res = inttonote[i]\n",
    "        pred_out.append(res)\n",
    "        \n",
    "        pat.append(i)\n",
    "        pat = pat[1:len(pat)]\n",
    "    \n",
    "    return pred_out"
   ]
  },
  {
   "cell_type": "code",
   "execution_count": 29,
   "metadata": {},
   "outputs": [],
   "source": [
    "from music21 import converter, instrument, note, chord, stream\n",
    "def midi_create(pred_out):\n",
    "    out_not = []\n",
    "\n",
    "    for pat in pred_out:\n",
    "        if ('.' in pat) or pat.isdigit():\n",
    "            noteinchord = pat.split('.')\n",
    "            notes = []  # Create an empty list for storing the notes in a chord\n",
    "            for cur_note in noteinchord:\n",
    "                newnote = note.Note(int(cur_note))  # Use `note.Note` instead of `array.Note`\n",
    "                newnote.storedInstrument = instrument.Piano()\n",
    "                notes.append(newnote)\n",
    "            newchord = chord.Chord(notes)  # Create a chord from the list of notes\n",
    "            newchord.offset = 10\n",
    "            out_not.append(newchord)\n",
    "\n",
    "        else:\n",
    "            newnote = note.Note(pat)  # Use `note.Note` instead of `array.Note`\n",
    "            newnote.offset = 10\n",
    "            newnote.storedInstrument = instrument.Piano()\n",
    "            out_not.append(newnote)\n",
    "\n",
    "    midistream = stream.Stream(out_not)\n",
    "\n",
    "    midistream.write('midi', fp='output.mid')"
   ]
  },
  {
   "cell_type": "code",
   "execution_count": 30,
   "metadata": {},
   "outputs": [],
   "source": [
    "if __name__ == '__main__':\n",
    "    generate()"
   ]
  },
  {
   "cell_type": "code",
   "execution_count": null,
   "metadata": {},
   "outputs": [],
   "source": []
  }
 ],
 "metadata": {
  "kernelspec": {
   "display_name": "Python 3",
   "language": "python",
   "name": "python3"
  },
  "language_info": {
   "codemirror_mode": {
    "name": "ipython",
    "version": 3
   },
   "file_extension": ".py",
   "mimetype": "text/x-python",
   "name": "python",
   "nbconvert_exporter": "python",
   "pygments_lexer": "ipython3",
   "version": "3.10.14"
  }
 },
 "nbformat": 4,
 "nbformat_minor": 2
}
